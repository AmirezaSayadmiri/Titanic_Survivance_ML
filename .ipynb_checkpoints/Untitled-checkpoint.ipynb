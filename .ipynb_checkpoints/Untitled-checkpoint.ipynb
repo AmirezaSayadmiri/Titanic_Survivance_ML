{
 "cells": [
  {
   "cell_type": "code",
   "execution_count": 49,
   "id": "ff1c5f2c-0bde-4f6f-a710-cb13d5d715c3",
   "metadata": {},
   "outputs": [],
   "source": [
    "import pandas as pd\n",
    "import numpy as np\n",
    "import seaborn as sns\n",
    "import matplotlib.pyplot as plt\n",
    "from sklearn.linear_model import LinearRegression,LogisticRegression\n",
    "from sklearn.neighbors import KNeighborsClassifier\n",
    "from sklearn.metrics import mean_squared_error,classification_report,confusion_matrix\n",
    "from sklearn.preprocessing import StandardScaler\n",
    "from sklearn.model_selection import train_test_split\n",
    "\n",
    "%matplotlib inline"
   ]
  },
  {
   "cell_type": "code",
   "execution_count": 80,
   "id": "2340f754-c8f7-466f-97f0-0c3c231f4d43",
   "metadata": {},
   "outputs": [],
   "source": [
    "df = pd.DataFrame(data=[[100, 2, 1010000], [50, 1, 550000], [40, 1, 405000], [30, 3, 315000], [57, 1, 575000]], columns=['Metr', 'Bedrooms', 'Price'])"
   ]
  },
  {
   "cell_type": "code",
   "execution_count": 81,
   "id": "596d2840-6be7-46a3-b16f-ff9974557436",
   "metadata": {},
   "outputs": [],
   "source": [
    "X = df.to_numpy()[:,:2]\n",
    "y = df.to_numpy()[:,2]"
   ]
  },
  {
   "cell_type": "code",
   "execution_count": 102,
   "id": "e18fcc51-1d6a-45d9-b073-c34dd1f45ba4",
   "metadata": {},
   "outputs": [],
   "source": [
    "learning_rate = 0.1\n",
    "theta = np.random.randn(2,1)"
   ]
  },
  {
   "cell_type": "code",
   "execution_count": null,
   "id": "98035b60-7184-4b9c-8d24-11a4f85ed132",
   "metadata": {},
   "outputs": [],
   "source": [
    "for i in range(10):\n",
    "    gradients = 2/5 * X.T.dot(X.dot(theta) - y)\n",
    "    theta = theta - learning_rate * gradients"
   ]
  },
  {
   "cell_type": "code",
   "execution_count": 120,
   "id": "afb38428-ee6b-46fa-80b2-dd635106abfa",
   "metadata": {},
   "outputs": [
    {
     "data": {
      "text/plain": [
       "array([[nan, nan, nan, nan, nan],\n",
       "       [nan, nan, nan, nan, nan]])"
      ]
     },
     "execution_count": 120,
     "metadata": {},
     "output_type": "execute_result"
    }
   ],
   "source": [
    "theta"
   ]
  }
 ],
 "metadata": {
  "kernelspec": {
   "display_name": "Python 3 (ipykernel)",
   "language": "python",
   "name": "python3"
  },
  "language_info": {
   "codemirror_mode": {
    "name": "ipython",
    "version": 3
   },
   "file_extension": ".py",
   "mimetype": "text/x-python",
   "name": "python",
   "nbconvert_exporter": "python",
   "pygments_lexer": "ipython3",
   "version": "3.11.7"
  }
 },
 "nbformat": 4,
 "nbformat_minor": 5
}
